{
 "cells": [
  {
   "cell_type": "markdown",
   "id": "432aeb1c",
   "metadata": {},
   "source": [
    "# Keypoint Detection"
   ]
  },
  {
   "cell_type": "markdown",
   "id": "f1c83ad3",
   "metadata": {},
   "source": [
    "## Importe"
   ]
  },
  {
   "cell_type": "code",
   "execution_count": 2,
   "id": "645dc74b",
   "metadata": {},
   "outputs": [],
   "source": [
    "import numpy as np\n",
    "import pandas as pd\n",
    "import seaborn as sns\n",
    "import matplotlib.pyplot as plt\n",
    "import os\n",
    "from matplotlib.image import imread\n",
    "%matplotlib inline"
   ]
  },
  {
   "cell_type": "markdown",
   "id": "71328c4b",
   "metadata": {},
   "source": [
    "## Pfade festlegen"
   ]
  },
  {
   "cell_type": "code",
   "execution_count": 3,
   "id": "9810a903",
   "metadata": {},
   "outputs": [],
   "source": [
    "df_train=pd.read_csv('train.csv', sep=';')\n",
    "df_test=pd.read_csv('test.csv', sep=';')\n",
    "train_path = 'Training'+os.sep\n",
    "train_klein_path = 'TrainingKleineBilder'+os.sep\n",
    "test_path = 'Test'+os.sep"
   ]
  },
  {
   "cell_type": "markdown",
   "id": "09030ca9",
   "metadata": {},
   "source": [
    "## Bilder skalieren "
   ]
  },
  {
   "cell_type": "code",
   "execution_count": 4,
   "id": "0077f3b8",
   "metadata": {},
   "outputs": [],
   "source": [
    "from PIL import Image\n",
    "\n",
    "for filename in os.listdir(train_klein_path):\n",
    "    os.remove(train_klein_path+filename)\n",
    "\n",
    "#basewidth:\n",
    "basewidth = 320\n",
    "wpercent = (basewidth / float(1000))\n",
    "hsize = int((float(1000) * float(wpercent)))\n",
    "\n",
    "cropbox = (0,10,1000,1000)\n",
    "\n",
    "for image_filename in (os.listdir(train_path)):\n",
    "    if image_filename=='.DS_Store':\n",
    "        continue\n",
    "    image = Image.open(train_path+image_filename)\n",
    "    new_image = image.crop(cropbox)\n",
    "    new_image = new_image.resize((basewidth, hsize))\n",
    "    new_image.save(train_klein_path+image_filename)"
   ]
  },
  {
   "cell_type": "markdown",
   "id": "88d4023c",
   "metadata": {},
   "source": [
    "## Bilder in Array einlesen "
   ]
  },
  {
   "cell_type": "code",
   "execution_count": 5,
   "id": "667b49e5",
   "metadata": {},
   "outputs": [],
   "source": [
    "import re\n",
    "def sorted_alphanumeric(data):\n",
    "    convert = lambda text: int(text) if text.isdigit() else text.lower()\n",
    "    alphanum_key = lambda key: [ convert(c) for c in re.split('([0-9]+)', key) ] \n",
    "    return sorted(data, key=alphanum_key)\n",
    "\n",
    "dirlist = sorted_alphanumeric(os.listdir(train_klein_path))\n",
    "\n",
    "images_train = []\n",
    "for image_filename in dirlist:\n",
    "    if image_filename=='.DS_Store':\n",
    "        continue\n",
    "    img = imread(train_klein_path+image_filename)\n",
    "    images_train.append(img)"
   ]
  },
  {
   "cell_type": "markdown",
   "id": "8fadf07c",
   "metadata": {},
   "source": [
    "## Koordinaten skalieren und über Bilder legen "
   ]
  },
  {
   "cell_type": "markdown",
   "id": "e6b238cb",
   "metadata": {},
   "source": [
    "### Koordinaten skalieren "
   ]
  },
  {
   "cell_type": "code",
   "execution_count": 6,
   "id": "7f126646",
   "metadata": {},
   "outputs": [],
   "source": [
    "df_train = df_train * float(wpercent)"
   ]
  },
  {
   "cell_type": "markdown",
   "id": "3b5215cc",
   "metadata": {},
   "source": [
    "### Punkt in Bild einzeichnen "
   ]
  },
  {
   "cell_type": "code",
   "execution_count": 7,
   "id": "a4e1afd8",
   "metadata": {},
   "outputs": [],
   "source": [
    "def plot_image(df_images, df, index):\n",
    "    image = plt.imshow(df_images[index])\n",
    "    l = []\n",
    "    l.append(plt.plot(df.loc[index][0], df.loc[index][1], 'ro'))\n",
    "    return image, l"
   ]
  },
  {
   "cell_type": "code",
   "execution_count": 12,
   "id": "df35daa4",
   "metadata": {},
   "outputs": [
    {
     "ename": "SyntaxError",
     "evalue": "unexpected EOF while parsing (<ipython-input-12-3e7ab8d07610>, line 6)",
     "output_type": "error",
     "traceback": [
      "\u001b[0;36m  File \u001b[0;32m\"<ipython-input-12-3e7ab8d07610>\"\u001b[0;36m, line \u001b[0;32m6\u001b[0m\n\u001b[0;31m    plt.show(\u001b[0m\n\u001b[0m             ^\u001b[0m\n\u001b[0;31mSyntaxError\u001b[0m\u001b[0;31m:\u001b[0m unexpected EOF while parsing\n"
     ]
    }
   ],
   "source": [
    "fig = plt.figure(figsize=(20, 20))\n",
    "\n",
    "for i in range(20):\n",
    "    ax = fig.add_subplot(5, 4, i+1)\n",
    "    plot_image(images_train, df_train, i)\n",
    "plt.show()"
   ]
  },
  {
   "cell_type": "markdown",
   "id": "8d1d39de",
   "metadata": {},
   "source": [
    "## Bilder und Koordinaten in np Arrays umwandeln "
   ]
  },
  {
   "cell_type": "code",
   "execution_count": 9,
   "id": "90cd7422",
   "metadata": {},
   "outputs": [],
   "source": [
    "images_train = np.array(images_train,dtype = 'float')\n",
    "images_train = np.asarray(images_train, dtype=np.uint8).reshape(images_train.shape[0],basewidth,basewidth,1)"
   ]
  },
  {
   "cell_type": "code",
   "execution_count": 10,
   "id": "9e5bf3fb",
   "metadata": {},
   "outputs": [],
   "source": [
    "y = []\n",
    "for i in range(0,df_train.shape[0]):\n",
    "    point = df_train.iloc[i,:]\n",
    "    y.append(point)\n",
    "    \n",
    "y = np.array(y, dtype = 'float')"
   ]
  },
  {
   "cell_type": "markdown",
   "id": "f536edc4",
   "metadata": {},
   "source": [
    "## Daten in Trainings- , Test- und Validierungsdaten aufteilen "
   ]
  },
  {
   "cell_type": "code",
   "execution_count": 11,
   "id": "ace77700",
   "metadata": {},
   "outputs": [],
   "source": [
    "from sklearn.model_selection import train_test_split\n",
    "x_train, x_rest, y_train, y_rest = train_test_split(images_train, y, test_size=0.2, random_state=42)\n",
    "x_test, x_val, y_test, y_val = train_test_split(x_rest, y_rest, test_size=0.5, random_state=42)"
   ]
  },
  {
   "cell_type": "markdown",
   "id": "250267d1",
   "metadata": {},
   "source": [
    "## Modell "
   ]
  },
  {
   "cell_type": "code",
   "execution_count": null,
   "id": "66c1ec9d",
   "metadata": {},
   "outputs": [],
   "source": [
    "from keras.models import Sequential\n",
    "from keras.layers import Dense, Conv2D, Flatten, AvgPool2D, BatchNormalization, Dropout, Activation, MaxPooling2D\n",
    "from keras import regularizers\n",
    "from keras.layers.advanced_activations import LeakyReLU\n",
    "from keras.models import Sequential, Model\n",
    "from keras.layers import Activation, Convolution2D, MaxPooling2D, BatchNormalization, Flatten, Dense, Dropout, Conv2D,MaxPool2D, ZeroPadding2D"
   ]
  },
  {
   "cell_type": "code",
   "execution_count": null,
   "id": "8e8e8cf7",
   "metadata": {},
   "outputs": [],
   "source": [
    "model = Sequential()\n",
    "\n",
    "model.add(Convolution2D(32, (3,3), padding='same', use_bias=False, input_shape=(basewidth,basewidth,1)))\n",
    "model.add(LeakyReLU(alpha = 0.1))\n",
    "model.add(BatchNormalization())\n",
    "\n",
    "model.add(Convolution2D(32, (3,3), padding='same', use_bias=False))\n",
    "model.add(LeakyReLU(alpha = 0.1))\n",
    "model.add(BatchNormalization())\n",
    "model.add(MaxPool2D(pool_size=(2, 2)))\n",
    "\n",
    "model.add(Convolution2D(64, (3,3), padding='same', use_bias=False))\n",
    "model.add(LeakyReLU(alpha = 0.1))\n",
    "model.add(BatchNormalization())\n",
    "\n",
    "model.add(Convolution2D(64, (3,3), padding='same', use_bias=False))\n",
    "model.add(LeakyReLU(alpha = 0.1))\n",
    "model.add(BatchNormalization())\n",
    "model.add(MaxPool2D(pool_size=(2, 2)))\n",
    "\n",
    "model.add(Convolution2D(96, (3,3), padding='same', use_bias=False))\n",
    "model.add(LeakyReLU(alpha = 0.1))\n",
    "model.add(BatchNormalization())\n",
    "\n",
    "model.add(Convolution2D(96, (3,3), padding='same', use_bias=False))\n",
    "model.add(LeakyReLU(alpha = 0.1))\n",
    "model.add(BatchNormalization())\n",
    "model.add(MaxPool2D(pool_size=(2, 2)))\n",
    "\n",
    "model.add(Convolution2D(128, (3,3),padding='same', use_bias=False))\n",
    "model.add(BatchNormalization())\n",
    "model.add(LeakyReLU(alpha = 0.1))\n",
    "model.add(BatchNormalization())\n",
    "\n",
    "model.add(Convolution2D(128, (3,3),padding='same', use_bias=False))\n",
    "model.add(LeakyReLU(alpha = 0.1))\n",
    "model.add(BatchNormalization())\n",
    "model.add(MaxPool2D(pool_size=(2, 2)))\n",
    "\n",
    "model.add(Convolution2D(256, (3,3),padding='same',use_bias=False))\n",
    "model.add(LeakyReLU(alpha = 0.1))\n",
    "model.add(BatchNormalization())\n",
    "\n",
    "model.add(Convolution2D(256, (3,3),padding='same',use_bias=False))\n",
    "model.add(LeakyReLU(alpha = 0.1))\n",
    "model.add(BatchNormalization())\n",
    "model.add(MaxPool2D(pool_size=(2, 2)))\n",
    "\n",
    "model.add(Convolution2D(512, (3,3), padding='same', use_bias=False))\n",
    "model.add(LeakyReLU(alpha = 0.1))\n",
    "model.add(BatchNormalization())\n",
    "\n",
    "model.add(Convolution2D(512, (3,3), padding='same', use_bias=False))\n",
    "model.add(LeakyReLU(alpha = 0.1))\n",
    "model.add(BatchNormalization())\n",
    "\n",
    "\n",
    "model.add(Flatten())\n",
    "model.add(Dense(512,activation='relu'))\n",
    "model.add(Dropout(0.1))\n",
    "model.add(Dense(2))\n",
    "model.summary()"
   ]
  },
  {
   "cell_type": "code",
   "execution_count": null,
   "id": "77b3075b",
   "metadata": {},
   "outputs": [],
   "source": [
    "model.compile(optimizer='adam', loss='mean_squared_error', metrics=['mae'])"
   ]
  },
  {
   "cell_type": "code",
   "execution_count": null,
   "id": "b0533c56",
   "metadata": {},
   "outputs": [],
   "source": [
    "history=model.fit(x_train, y_train, epochs = 500, batch_size = 64, validation_data = (x_val, y_val))"
   ]
  },
  {
   "cell_type": "code",
   "execution_count": null,
   "id": "b6a345d1",
   "metadata": {},
   "outputs": [],
   "source": [
    "model.save(\"KeypointDetection.h5\")"
   ]
  },
  {
   "cell_type": "markdown",
   "id": "8fbafbb5",
   "metadata": {},
   "source": [
    "## Vorhersage des Models "
   ]
  },
  {
   "cell_type": "code",
   "execution_count": null,
   "id": "512e89ea",
   "metadata": {},
   "outputs": [],
   "source": [
    "evaluate = model.evaluate(x_test, y_test)\n",
    "evaluate"
   ]
  },
  {
   "cell_type": "code",
   "execution_count": null,
   "id": "fa743360",
   "metadata": {},
   "outputs": [],
   "source": [
    "prediction = model.predict(x_test)"
   ]
  },
  {
   "cell_type": "code",
   "execution_count": null,
   "id": "5874aeae",
   "metadata": {},
   "outputs": [],
   "source": [
    "prediction[1]"
   ]
  },
  {
   "cell_type": "markdown",
   "id": "3c2c28e4",
   "metadata": {},
   "source": [
    "## Vorhergesagte Punkte in Bild einzeichnen "
   ]
  },
  {
   "cell_type": "code",
   "execution_count": null,
   "id": "e6f7f5d3",
   "metadata": {},
   "outputs": [],
   "source": [
    "def plot_test_image(df,prediction, index):\n",
    "    image = plt.imshow(df[index])\n",
    "    l = []\n",
    "    l.append(plt.plot(prediction[index][0], prediction[index][1], 'ro'))\n",
    "        \n",
    "    return image, l"
   ]
  },
  {
   "cell_type": "code",
   "execution_count": null,
   "id": "28e58b09",
   "metadata": {},
   "outputs": [],
   "source": [
    "fig = plt.figure(figsize=(20, 20))\n",
    "\n",
    "for i in range(5):\n",
    "    ax = fig.add_subplot(5, 4, i + 1)\n",
    "    plot_test_image(x_test,prediction, i)\n",
    "\n",
    "plt.show()"
   ]
  }
 ],
 "metadata": {
  "kernelspec": {
   "display_name": "Python 3",
   "language": "python",
   "name": "python3"
  },
  "language_info": {
   "codemirror_mode": {
    "name": "ipython",
    "version": 3
   },
   "file_extension": ".py",
   "mimetype": "text/x-python",
   "name": "python",
   "nbconvert_exporter": "python",
   "pygments_lexer": "ipython3",
   "version": "3.8.8"
  }
 },
 "nbformat": 4,
 "nbformat_minor": 5
}
